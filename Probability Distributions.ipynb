{
 "cells": [
  {
   "cell_type": "markdown",
   "metadata": {},
   "source": [
    "# Gaussian Distribution"
   ]
  },
  {
   "cell_type": "code",
   "execution_count": null,
   "metadata": {},
   "outputs": [],
   "source": [
    "import numpy as np\n",
    "import matplotlib.pyplot as plt\n",
    "from math import sqrt, pi, exp"
   ]
  },
  {
   "cell_type": "code",
   "execution_count": 87,
   "metadata": {},
   "outputs": [],
   "source": [
    "class norm1:\n",
    "    def __init__(self, mean, std, num_points):\n",
    "        self.mean = mean\n",
    "        self.std = std\n",
    "        self.num_points = num_points\n",
    "        \n",
    "    def dist_curve(self):\n",
    "        factor = 1/(self.std * np.sqrt(2 * np.pi))\n",
    "        exponent =  - (self.num_points - self.mean)**2 / (2 * self.std**2)\n",
    "        plt.plot(self.num_points, factor*np.exp(exponent), linewidth=2, color='y')\n",
    "        plt.show()"
   ]
  },
  {
   "cell_type": "code",
   "execution_count": 88,
   "metadata": {},
   "outputs": [],
   "source": [
    "mean1 = 5\n",
    "std1 = 2\n",
    "c = np.random.normal(mean1, std1, 3000)"
   ]
  },
  {
   "cell_type": "code",
   "execution_count": 89,
   "metadata": {},
   "outputs": [
    {
     "name": "stderr",
     "output_type": "stream",
     "text": [
      "/usr/local/lib/python3.6/dist-packages/ipykernel_launcher.py:2: MatplotlibDeprecationWarning: \n",
      "The 'normed' kwarg was deprecated in Matplotlib 2.1 and will be removed in 3.1. Use 'density' instead.\n",
      "  \n"
     ]
    },
    {
     "data": {
      "image/png": "[encoded data removed]",
      "text/plain": [
       "<Figure size 432x288 with 1 Axes>"
      ]
     },
     "metadata": {
      "needs_background": "light"
     },
     "output_type": "display_data"
    }
   ],
   "source": [
    "# Create a histogram of numpy gaussian distribution\n",
    "w1, x1, z1 = plt.hist(c, 100, normed=True)\n",
    "\n",
    "hist1 = norm1(mean1, std1, x1)\n",
    "plot1 = hist1.dist_curve()"
   ]
  },
  {
   "cell_type": "code",
   "execution_count": 45,
   "metadata": {},
   "outputs": [],
   "source": [
    "# Create a random numpy array\n",
    "arr = np.random.rand(1000)*10"
   ]
  },
  {
   "cell_type": "code",
   "execution_count": 56,
   "metadata": {},
   "outputs": [],
   "source": [
    "'''\n",
    "Using the formula defined: http://mathworld.wolfram.com/NormalDistribution.html\n",
    "we can create a simple gaussian distribution\n",
    "with mean and a standard deviation of 1\n",
    "'''\n",
    "def gaussian_dist(samples):\n",
    "    result = []\n",
    "    std = 1\n",
    "    mean = np.mean(samples)\n",
    "    \n",
    "    factor = 1/(std*sqrt(2*pi))\n",
    "    \n",
    "    for sample in samples:\n",
    "        result.append(factor*exp(-1*((sample-mean)**2))/(2*(std**2)))\n",
    "    \n",
    "    return result"
   ]
  },
  {
   "cell_type": "code",
   "execution_count": 54,
   "metadata": {},
   "outputs": [],
   "source": [
    "result = np.asarray(gaussian_dist(arr))"
   ]
  },
  {
   "cell_type": "code",
   "execution_count": 55,
   "metadata": {},
   "outputs": [
    {
     "data": {
      "text/plain": [
       "<matplotlib.collections.PathCollection at 0x7fcc8acfc6a0>"
      ]
     },
     "execution_count": 55,
     "metadata": {},
     "output_type": "execute_result"
    },
    {
     "data": {
      "image/png": "[encoded data removed]",
      "text/plain": [
       "<Figure size 432x288 with 1 Axes>"
      ]
     },
     "metadata": {
      "needs_background": "light"
     },
     "output_type": "display_data"
    }
   ],
   "source": [
    "plt.scatter(x=arr, y=result)"
   ]
  },
  {
   "cell_type": "markdown",
   "metadata": {},
   "source": [
    "# CDF's\n",
    "\n",
    "- Is the graph of the  integral of the PDF\n",
    "- Importance: it gives the probability of a random variable taking on a value that is less then or equal to specific value x"
   ]
  }
 ],
 "metadata": {
  "kernelspec": {
   "display_name": "Python 3",
   "language": "python",
   "name": "python3"
  },
  "language_info": {
   "codemirror_mode": {
    "name": "ipython",
    "version": 3
   },
   "file_extension": ".py",
   "mimetype": "text/x-python",
   "name": "python",
   "nbconvert_exporter": "python",
   "pygments_lexer": "ipython3",
   "version": "3.6.8"
  }
 },
 "nbformat": 4,
 "nbformat_minor": 2
}
