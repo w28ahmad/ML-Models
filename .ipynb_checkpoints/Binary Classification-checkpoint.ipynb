{
 "cells": [
  {
   "cell_type": "markdown",
   "metadata": {},
   "source": [
    "# Binary Classifier"
   ]
  },
  {
   "cell_type": "code",
   "execution_count": 1,
   "metadata": {},
   "outputs": [],
   "source": [
    "# Importing the MNIST dataset\n",
    "from sklearn.datasets import fetch_openml"
   ]
  },
  {
   "cell_type": "code",
   "execution_count": 2,
   "metadata": {},
   "outputs": [
    {
     "data": {
      "text/plain": [
       "dict_keys(['data', 'target', 'feature_names', 'DESCR', 'details', 'categories', 'url'])"
      ]
     },
     "execution_count": 2,
     "metadata": {},
     "output_type": "execute_result"
    }
   ],
   "source": [
    "mnist = fetch_openml('mnist_784', version=1)\n",
    "mnist.keys()"
   ]
  },
  {
   "cell_type": "code",
   "execution_count": 9,
   "metadata": {},
   "outputs": [],
   "source": [
    "# Import the data\n",
    "X, y = mnist['data'],  mnist['target']"
   ]
  },
  {
   "cell_type": "markdown",
   "metadata": {},
   "source": [
    "Info\n",
    "- there are 70,000 images\n",
    "- there are 28x28, so 784 features\n",
    "- there default shape is an array of 784 elements"
   ]
  },
  {
   "cell_type": "code",
   "execution_count": 15,
   "metadata": {},
   "outputs": [],
   "source": [
    "# Displaying the images\n",
    "import matplotlib.pyplot as plt \n",
    "import numpy as np"
   ]
  },
  {
   "cell_type": "code",
   "execution_count": 14,
   "metadata": {},
   "outputs": [
    {
     "data": {
      "text/plain": [
       "<matplotlib.image.AxesImage at 0x7fc7c0687630>"
      ]
     },
     "execution_count": 14,
     "metadata": {},
     "output_type": "execute_result"
    },
    {
     "data": {
      "image/png": "[encoded data removed]",
      "text/plain": [
       "<Figure size 432x288 with 1 Axes>"
      ]
     },
     "metadata": {
      "needs_background": "light"
     },
     "output_type": "display_data"
    }
   ],
   "source": [
    "plt.imshow(X[0].reshape(28, 28))"
   ]
  },
  {
   "cell_type": "code",
   "execution_count": 16,
   "metadata": {},
   "outputs": [],
   "source": [
    "# convert the labels from strings to integers\n",
    "y = y.astype(np.uint8)"
   ]
  },
  {
   "cell_type": "code",
   "execution_count": 17,
   "metadata": {},
   "outputs": [],
   "source": [
    "# train, test split\n",
    "# 60,000 - 10,000 split\n",
    "X_train, X_test, y_train, y_test = X[:60000], X[60000:], y[:60000], y[60000:]"
   ]
  },
  {
   "cell_type": "markdown",
   "metadata": {},
   "source": [
    "# Training the binary classifier\n",
    "\n",
    "- We will simplify the problem for now by only identifying one digit\n",
    "- Let that digit be 5"
   ]
  },
  {
   "cell_type": "code",
   "execution_count": 19,
   "metadata": {},
   "outputs": [],
   "source": [
    "# Creating the targets for the binary classifier\n",
    "y_train_5 = (y_train == 5)\n",
    "y_test_5 = (y_test == 5)"
   ]
  },
  {
   "cell_type": "markdown",
   "metadata": {},
   "source": [
    "# Choosing a classifier\n",
    "- We are going to start by training a Stochastic Gradient Descent\n",
    "- Advantage, it is able to handle large datasets efficiently"
   ]
  },
  {
   "cell_type": "code",
   "execution_count": 21,
   "metadata": {},
   "outputs": [],
   "source": [
    "from sklearn.linear_model import SGDClassifier"
   ]
  },
  {
   "cell_type": "code",
   "execution_count": 24,
   "metadata": {},
   "outputs": [
    {
     "data": {
      "text/plain": [
       "SGDClassifier(alpha=0.0001, average=False, class_weight=None,\n",
       "              early_stopping=False, epsilon=0.1, eta0=0.0, fit_intercept=True,\n",
       "              l1_ratio=0.15, learning_rate='optimal', loss='hinge',\n",
       "              max_iter=1000, n_iter_no_change=5, n_jobs=None, penalty='l2',\n",
       "              power_t=0.5, random_state=1, shuffle=True, tol=0.001,\n",
       "              validation_fraction=0.1, verbose=0, warm_start=False)"
      ]
     },
     "execution_count": 24,
     "metadata": {},
     "output_type": "execute_result"
    }
   ],
   "source": [
    "# fitting\n",
    "sgdc = SGDClassifier(random_state=1)\n",
    "sgdc.fit(X_train, y_train_5)"
   ]
  },
  {
   "cell_type": "code",
   "execution_count": 32,
   "metadata": {},
   "outputs": [
    {
     "data": {
      "text/plain": [
       "array([ True])"
      ]
     },
     "execution_count": 32,
     "metadata": {},
     "output_type": "execute_result"
    }
   ],
   "source": [
    "# predicting\n",
    "# note that predict takes an array of samples, not just one sample\n",
    "sgdc.predict([X_train[0]])"
   ]
  },
  {
   "cell_type": "markdown",
   "metadata": {},
   "source": [
    "# Evaluating the performance"
   ]
  },
  {
   "cell_type": "code",
   "execution_count": 33,
   "metadata": {},
   "outputs": [],
   "source": [
    "from sklearn.model_selection import cross_val_score"
   ]
  },
  {
   "cell_type": "code",
   "execution_count": 35,
   "metadata": {},
   "outputs": [
    {
     "data": {
      "text/plain": [
       "array([0.95785, 0.9667 , 0.9608 ])"
      ]
     },
     "execution_count": 35,
     "metadata": {},
     "output_type": "execute_result"
    }
   ],
   "source": [
    "# cv is how many folds you want to create, in this case 3\n",
    "# Training on just 1 fold and then testing on the other 3 folds\n",
    "# Returns the accuracy of all 3 folds\n",
    "cross_val_score(sgdc, X_train, y_train_5, cv=3, scoring='accuracy')"
   ]
  },
  {
   "cell_type": "code",
   "execution_count": 37,
   "metadata": {},
   "outputs": [
    {
     "data": {
      "text/plain": [
       "array([0.91125, 0.90855, 0.90915])"
      ]
     },
     "execution_count": 37,
     "metadata": {},
     "output_type": "execute_result"
    }
   ],
   "source": [
    "# 95% is not as accurate is it may seem at first\n",
    "\n",
    "from sklearn.base import BaseEstimator\n",
    "\n",
    "class Never5Classifier(BaseEstimator):\n",
    "    def fit(self, X, y=None):\n",
    "        pass\n",
    "    def predict(self, X):\n",
    "        return np.zeros((len(X), 1), dtype=bool)\n",
    "    \n",
    "N5C = Never5Classifier()\n",
    "cross_val_score(N5C, X_train, y_train_5, cv=3, scoring='accuracy')"
   ]
  },
  {
   "cell_type": "markdown",
   "metadata": {},
   "source": [
    "# Confusion Matrix"
   ]
  },
  {
   "cell_type": "code",
   "execution_count": 39,
   "metadata": {},
   "outputs": [],
   "source": [
    "from sklearn.model_selection import cross_val_predict\n",
    "from sklearn.metrics import confusion_matrix"
   ]
  },
  {
   "cell_type": "markdown",
   "metadata": {},
   "source": [
    "- Each row in a confusion Matrix repersents an actual class\n",
    "- Column repersents the predicted class"
   ]
  },
  {
   "cell_type": "code",
   "execution_count": 42,
   "metadata": {},
   "outputs": [
    {
     "data": {
      "text/plain": [
       "array([[53603,   976],\n",
       "       [ 1317,  4104]])"
      ]
     },
     "execution_count": 42,
     "metadata": {},
     "output_type": "execute_result"
    }
   ],
   "source": [
    "y_train_pred = cross_val_predict(sgdc, X_train, y_train_5, cv=3)\n",
    "confusion_matrix(y_train_5, y_train_pred)"
   ]
  },
  {
   "cell_type": "markdown",
   "metadata": {},
   "source": [
    "Conclusions\n",
    "- The first row repersents the negative class (non 5's) and the first col is the corrected classified ones 53604 (true negatives), the next is (false positives) 976\n",
    "- The second row, first col repersents the non 5's classified as 5's 1317, the next col are the 5's classified correctly\n"
   ]
  },
  {
   "attachments": {},
   "cell_type": "markdown",
   "metadata": {},
   "source": [
    "<img src=\"data:image/png;base64,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\" style=\"width: 800px;\">"
   ]
  },
  {
   "cell_type": "markdown",
   "metadata": {},
   "source": [
    "## Precision\n",
    "    [[54579,    0],  -----> [[TN,  FP]\n",
    "    [     0, 5421]]          [FN,  TP]]\n",
    "\n",
    "\\begin{equation*}\n",
    "precision = \\frac{TP}{TP+FP}\n",
    "\\end{equation*}"
   ]
  },
  {
   "cell_type": "markdown",
   "metadata": {},
   "source": [
    "## Recall\n",
    "\n",
    "\\begin{equation*}\n",
    "recall = \\frac{TP}{TP+FN}\n",
    "\\end{equation*}"
   ]
  },
  {
   "cell_type": "markdown",
   "metadata": {},
   "source": [
    "- precision and recall are opposite function\n",
    "    - As one increases the other decreases\n",
    "    - You can't have both recall and precision in a model\n",
    "    - because if you try to go for a 100% precision your are bound to classify some 5 as non 5's and vise-versa\n",
    "    \n",
    "- you are able to choose a threshold between precision and recall\n",
    "    - view page 90"
   ]
  },
  {
   "cell_type": "code",
   "execution_count": 44,
   "metadata": {},
   "outputs": [
    {
     "name": "stdout",
     "output_type": "stream",
     "text": [
      "Prediction Score: 0.8078740157480315\n",
      "Recall Score: 0.7570558937465413\n"
     ]
    }
   ],
   "source": [
    "from sklearn.metrics import precision_score, recall_score\n",
    "\n",
    "# Prediction and recall scores\n",
    "ps = precision_score(y_train_5, y_train_pred)\n",
    "rs = recall_score(y_train_5, y_train_pred)\n",
    "\n",
    "print('Prediction Score:', ps)\n",
    "print('Recall Score:', rs)"
   ]
  },
  {
   "cell_type": "markdown",
   "metadata": {},
   "source": [
    "##  F1 Score\n",
    "- Merges precision and Recall score into 1 score\n",
    "\n",
    "\\begin{equation*}\n",
    "    F_{1} = 2 \\times \\frac{precision \\times recall} {precision + recall}\n",
    "\\end{equation*}"
   ]
  },
  {
   "cell_type": "code",
   "execution_count": 46,
   "metadata": {},
   "outputs": [
    {
     "name": "stdout",
     "output_type": "stream",
     "text": [
      "f1 score: 0.7816398438243977\n"
     ]
    }
   ],
   "source": [
    "from sklearn.metrics import f1_score\n",
    "\n",
    "f1 = f1_score(y_train_5, y_train_pred)\n",
    "print('f1 score:', f1)"
   ]
  },
  {
   "cell_type": "markdown",
   "metadata": {},
   "source": [
    "Now we notice that this once amazing model is not that amazing anymore"
   ]
  },
  {
   "cell_type": "code",
   "execution_count": null,
   "metadata": {},
   "outputs": [],
   "source": []
  }
 ],
 "metadata": {
  "kernelspec": {
   "display_name": "Python 3",
   "language": "python",
   "name": "python3"
  },
  "language_info": {
   "codemirror_mode": {
    "name": "ipython",
    "version": 3
   },
   "file_extension": ".py",
   "mimetype": "text/x-python",
   "name": "python",
   "nbconvert_exporter": "python",
   "pygments_lexer": "ipython3",
   "version": "3.6.8"
  }
 },
 "nbformat": 4,
 "nbformat_minor": 2
}
